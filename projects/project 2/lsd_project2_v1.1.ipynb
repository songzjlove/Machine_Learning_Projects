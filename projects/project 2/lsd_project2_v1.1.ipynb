{
 "metadata": {
  "name": ""
 },
 "nbformat": 3,
 "nbformat_minor": 0,
 "worksheets": [
  {
   "cells": [
    {
     "cell_type": "code",
     "collapsed": false,
     "input": [
      "# LSD Projecct 2\n",
      "# Zhengjian Song\n",
      "# Part 1\n",
      "\n",
      "import DAL\n",
      "import time\n",
      "import string\n",
      "import re\n",
      "import fractions\n",
      "import numpy\n",
      "import scipy\n",
      "import time\n",
      "from numpy import arange,array,ones,linalg\n",
      "from pylab import plot,show\n",
      "from __future__ import division\n",
      "from IPython.parallel import Client\n",
      "import matplotlib.pyplot as plt \n",
      "\n",
      "rc = Client()\n",
      "dview = rc[:]\n",
      "wishes=DAL.create('wishes')\n",
      "data = wishes.subsets()[13:18] #use only one recent week of twitter data to get the volcabulary,  \n",
      "\n",
      "# Clean the raw text data with filters\n",
      "# Create a very long string comprising of the first 5 days of twitter data\n",
      "dictionary= {}\n",
      "for i in range(len(data)):\n",
      "    print 'day', i\n",
      "    text = \"\"\n",
      "    for tweet in wishes.iter(data[i]):\n",
      "        if tweet.has_key('text'):\n",
      "            lower = tweet['text'].lower()\n",
      "            text += lower\n",
      "        else:\n",
      "            #print i\n",
      "            break\n",
      "    text = re.sub(r'@[a-zA-Z0-9_]+', \"\", text) #removes the @bullshit\n",
      "    text = re.sub(r'[^\\x00-\\x7F]', \"\", text) #removes weird shit\n",
      "    text = re.sub(r'&[a-zA-Z0-9_]+', \"\", text)#removes &amp etc.\n",
      "    text = re.sub(r'\\W', \" \", text) #removes anything which is not alphanumeric\n",
      "    text = re.sub(r'[0-9]', \"\", text) #removes #s\n",
      "    text = re.sub(r\"\\s+\", \" \", text) #removing white space\n",
      "    #print text\n",
      "    #splitting text into words\n",
      "    tt = text.split()\n",
      "    for word in tt:\n",
      "        if len(word) >= 2:\n",
      "            if dictionary.has_key(word):\n",
      "                dictionary[word] = dictionary[word] + 1\n",
      "            else:\n",
      "                dictionary.setdefault(word, 1)\n",
      "    \n",
      "#print len(dictionary.keys()) #\n",
      "#Trim the dictionary, each word has at least 25 occurances.\n",
      "V = []\n",
      "for word in dictionary.keys():\n",
      "    if dictionary[word] > 25:\n",
      "        V.append(word)\n",
      "M = len(V)\n",
      "print 'get the V(representation) and its size equals ', len(V)\n",
      "print V"
     ],
     "language": "python",
     "metadata": {},
     "outputs": [
      {
       "output_type": "stream",
       "stream": "stdout",
       "text": [
        "day 0\n",
        "day"
       ]
      },
      {
       "output_type": "stream",
       "stream": "stdout",
       "text": [
        " 1\n",
        "day"
       ]
      },
      {
       "output_type": "stream",
       "stream": "stdout",
       "text": [
        " 2\n",
        "day"
       ]
      },
      {
       "output_type": "stream",
       "stream": "stdout",
       "text": [
        " 3\n",
        "day"
       ]
      },
      {
       "output_type": "stream",
       "stream": "stdout",
       "text": [
        " 4\n",
        "day"
       ]
      },
      {
       "output_type": "stream",
       "stream": "stdout",
       "text": [
        " 5\n",
        "get the V(representation) and its size equals "
       ]
      },
      {
       "output_type": "stream",
       "stream": "stdout",
       "text": [
        " 566\n",
        "[u'here', u'music', u'until', u'successful', u'brings', u'want', u'organizer', u'travel', u'how', u'hot', u'__', u'allah', u'message', u'rt', u're', u'tahun', u'person', u'came', u'saying', u'lessons', u'best', u'lots', u'pre', u'much', u'life', u'udah', u'things', u'had', u'macdonald', u'right', u'people', u'for', u'condit', u'support', u'happy', u'roll', u'time', u'leave', u'team', u'sign', u'love', u'tidak', u'lalalala', u'awesome', u'ss', u'st', u'so', u'sa', u'years', u'records', u'one', u'open', u'boyfriend', u'san', u'sad', u'say', u'take', u'lotus', u'going', u'xmas', u'many', u'singapore', u'renewable', u'summer', u'being', u'rest', u'joyful', u'around', u'dari', u'world', u'favorite', u'other', u'her', u'hey', u'with', u'gone', u'am', u'an', u'as', u'at', u'graduate', u'th', u'full', u'via', u'militarysniperpinfall', u'more', u'beautiful', u'its', u'always', u'really', u'try', u'guest', u'show', u'also', u'play', u'plan', u'exo', u'ugh', u'factor', u'loved', u'set', u'jadi', u'see', u'whole', u'hoping', u'semoga', u'parents', u'couple', u'be', u'santa', u'by', u'into', u'up', u'us', u'ur', u'un', u'hello', u'send', u'anxious', u'video', u'let', u'great', u'thats', u'next', u'this', u'clients', u'high', u'sleepwalk', u'perfect', u'doing', u'put', u'lol', u'tonight', u'justinmeetbeliebitshawty', u'jungsoo', u'bring', u'should', u'jan', u'hope', u'meant', u've', u'off', u'indonesia', u'kiss', u'less', u'become', u'semua', u'official', u'chance', u'tickets', u'follow', u'told', u'festive', u'aku', u'bro', u'haha', u'work', u'could', u'after', u'then', u'them', u'break', u'they', u'another', u'do', u'di', u'de', u'da', u'buat', u'away', u'we', u'families', u'has', u'the', u'thanks', u'jose', u'night', u'marketing', u'way', u'was', u'true', u'welcome', u'together', u'gue', u'change', u'market', u'super', u'live', u'car', u'can', u'december', u'spm', u'write', u'goal', u'still', u'not', u'now', u'en', u'year', u'happen', u'album', u'looking', u'card', u'care', u'xx', u'tomorrow', u'friend', u'that', u'than', u'forever', u'only', u'truly', u'concert', u'notice', u'pray', u'comes', u'hve', u'sehat', u'these', u'biar', u'followers', u'greetings', u'co', u'real', u'gonna', u'early', u'business', u'your', u'start', u'lot', u'sales', u'you', u'since', u'very', u'louis', u'instagram', u'hahaha', u'soldier', u'family', u'hurry', u'dream', u'help', u'soon', u'actually', u'yg', u'yr', u'bless', u'event', u'pun', u'miss', u'wonderful', u'kai', u'close', u'won', u'damn', u'teuk', u'ada', u'look', u'mahasiswa', u'ready', u'remaining', u'march', u'some', u'seeing', u'visit', u'within', u'nak', u'gw', u'ga', u'go', u'win', u'justin', u'meet', u'his', u'heres', u'special', u'kalian', u'management', u'need', u'makeover', u'kong', u'she', u'merry', u'both', u'party', u'http', u'keep', u'well', u'twitter', u'home', u'artiste', u'ht', u'hi', u'he', u'stay', u'friends', u'sorry', u'even', u'new', u'ever', u'never', u'met', u'fantastic', u'tell', u'give', u'amazing', u'before', u'personal', u'better', u'weeks', u'untuk', u'luck', u'don', u'ending', u'stop', u'bad', u'brazil', u'said', u'omg', u'were', u'lovely', u'prosperous', u'lebih', u'is', u'it', u'cant', u'im', u'in', u'if', u'make', u'yours', u'just', u'yes', u'yet', u'dreams', u'dear', u'down', u'shit', u'finally', u'me', u'did', u'wait', u'everybody', u'making', u'fuck', u'till', u'nya', u'mau', u'may', u'guys', u'man', u'maybe', u'thank', u'girl', u'advance', u'thing', u'think', u'first', u'long', u'sounds', u'little', u'gladimet', u'get', u'calendar', u'tour', u'folow', u'wake', u'those', u'sama', u'same', u'money', u'blessed', u'again', u'students', u'starting', u'two', u'justinmeetjamaica', u'taun', u'dec', u'coming', u'already', u'through', u'thnx', u'good', u'everyone', u'energy', u'dont', u'punya', u'done', u'mama', u'para', u'park', u'part', u'believe', u'most', u'ke', u'ko', u'find', u'please', u'fans', u'point', u'fun', u'safe', u'spend', u'snap', u'excited', u'big', u'back', u'ufc', u'from', u'bisa', u'forward', u'got', u'flat', u'la', u'll', u'dan', u'day', u'february', u'greysonchancefeatjustinbieber', u'have', u'kita', u'overfl', u'staff', u'suatu', u'lulus', u'nd', u'almost', u'kkkk', u'like', u'success', u'about', u'biggest', u'but', u'antiknock', u'wish', u'pic', u'resolution', u'sleep', u'tweet', u'every', u'school', u'enjoy', u'would', u'to', u'my', u'end', u'amin', u'over', u'god', u'free', u'wanted', u'days', u'top', u'too', u'ray', u'though', u'yang', u'baik', u'watch', u'hopefully', u'news', u'been', u'gift', u'malaysia', u'everything', u'christmas', u'class', u'lagi', u'hear', u'practicing', u'trip', u'ni', u'no', u'na', u'when', u'ng', u'yall', u'goes', u'kamu', u'healthy', u'iphone', u'msg', u'today', u'birthday', u'yuk', u'season', u'and', u'ang', u'any', u'sure', u'rematch', u'jakarta', u'come', u'pop', u'direction', u'myself', u'someone', u'check', u'ya', u'lets', u'on', u'ok', u'oh', u'of', u'or', u'mas', u'there', u'all', u'program', u'worst', u'list', u'what', u'bulls', u'glad', u'nanti', u'style', u'sukses', u'health', u'nothing', u'pengen', u'him', u'baru', u'are', u'pm', u'advise', u'holidays', u'customers', u'wanna', u'because', u'xoxo', u'fast', u'peace', u'nice', u'wishes', u'apa', u'use', u'something', u'instead', u'holiday', u'our', u'out', u'their', u'aamiin', u'who', u'closed', u'joy', u'job', u'april', u'makin', u'respect', u'last', u'present', u'will', u'erie', u'gets', u'happiness', u'know', u'january', u'getting', u'made', u'ex', u'walafiat', u'book', u'june', u'kurang']\n"
       ]
      }
     ],
     "prompt_number": 44
    },
    {
     "cell_type": "markdown",
     "metadata": {},
     "source": [
      "The feature representation we chose is a vocabulary of words. We used the tweets from the week before the testing data (i.e. Dec 20th onwards). We used the wishes data to create the dictionary since in the original printout of the instructions, we were told to look at the wishes data. We also chose to use just the tweets from only the week before the testing data since we did not feel that using the entire set of training data would be useful. Thus we will be looking at each of the tweets from Dec 20 onwards and then cleaning it up and checking of the invidual words which comprise the tweets can be found in the vocabulary. If so, we update the feature vector by 1 in that spot taken by the word and 0 if not. "
     ]
    },
    {
     "cell_type": "code",
     "collapsed": false,
     "input": [
      "# LSD Projecct 2\n",
      "# Michelle Yeo and Zhengjian Song\n",
      "# Part 2\n",
      "\n",
      "# L2-regularization online update beta function. \n",
      "def online_update_beta_l2(y_label, mu, xvec, beta, b0, eta, rambda):\n",
      "    new_b0 = 0\n",
      "    new_beta = np.zeros(len(beta))\n",
      "    pp = 1/(1+exp(-1* mu))\n",
      "    new_b0 = b0 + eta*((y_label - pp) - rambda)\n",
      "    new_beta = beta + eta * ((y_label - pp )* xvec - rambda)\n",
      "    return (new_b0,new_beta)\n",
      "\n",
      "# Different learning rates\n",
      "def learning( ty, t):\n",
      "    # Switch\n",
      "    if ty == 0:\n",
      "        return 0.1\n",
      "    elif ty == 1:\n",
      "        return 0.5\n",
      "    elif ty == 2:\n",
      "        return 1.0\n",
      "    #\n",
      "    elif ty == 3:\n",
      "        return 0.3/t\n",
      "    elif ty == 4:\n",
      "        return 1/t\n",
      "    elif ty == 5:\n",
      "        return 2/t\n",
      "    #\n",
      "    elif ty == 6:\n",
      "        return 0.3/sqrt(t)\n",
      "    elif ty == 7:\n",
      "        return 1/sqrt(t)\n",
      "    elif ty == 8:\n",
      "        return 5/sqrt(t)\n",
      "    \n",
      "    else:\n",
      "        return 1"
     ],
     "language": "python",
     "metadata": {},
     "outputs": [],
     "prompt_number": 35
    },
    {
     "cell_type": "markdown",
     "metadata": {},
     "source": [
      "NOTE: The training is fast enough, but loading the data will take a while.\n",
      "One possible way is to load all data at first, and then train models online with different learning rate, but this will lead to the kernel crash (out of memory) problem.\n",
      "Or one could train the model with different learning rate with loading the data only once, but the code will be ugly with 9 sets of error counts variable. Besides, you will see the results together in the end not one by one, which means, it will really take you a while to see the result to check the codes.\n",
      "\n",
      "Wanna be faster? please try the code:\n",
      "test = lwishes.subsets()[20:24]"
     ]
    },
    {
     "cell_type": "code",
     "collapsed": false,
     "input": [
      "# this function trains one set of online data using stochastic gradient descent, it updates the parameters that we have gotten already\n",
      "def online_ridge_logistic(learning_type, g_beta, g_b0, g_t, f):\n",
      "    #parameters, L, l, M --- tweets of one new day.\n",
      "    #parameters, V --- vocabulary\n",
      "    #parameters, f --- file to write predicted label for unlabeled tweets\n",
      "    #parameters, errors stuff --- stat the errors\n",
      "    #parameters, g_beta, g_b0 --- global parameter\n",
      "    \n",
      "    # the rambda here usually should be from CV, for online training?\n",
      "    rambda = 0.001 #lambda penalty for ridge logistic regression\n",
      "    \n",
      "    errors = 0\n",
      "    #using SGD to update betas\n",
      "    for k in xrange(L):\n",
      "    #for k in range(20):\n",
      "        #normalising tweet i.e cleaning it up\n",
      "        temp = l[k]['text']\n",
      "        temp = re.sub(r'@[a-zA-Z0-9_]+', \"\", temp)\n",
      "        temp = re.sub(r'[^\\x00-\\x7F]', \"\", temp)\n",
      "        temp = re.sub(r'&[a-zA-Z0-9_]+', \"\", temp)\n",
      "        temp = re.sub(r'\\W', \" \", temp)\n",
      "        temp = re.sub(r'[0-9]', \"\", temp) #removes #s\n",
      "        temp = temp.lower()\n",
      "        temp = re.sub(r\"\\s+\", \" \", temp) #removing white space\n",
      "        temp = temp.split()\n",
      "        #print temp\n",
      "        #creating betas\n",
      "        x = np.zeros(M)\n",
      "        \n",
      "        for word in temp:\n",
      "            if word in V:\n",
      "                j = V.index(word)\n",
      "                x[j] = 1\n",
      "        mu = sum(g_beta * x) + g_b0\n",
      "        \n",
      "        '''\n",
      "        \n",
      "        ind = [] #list of indices eg. [34,78,90]\n",
      "        for word in temp:\n",
      "            if word in V:\n",
      "                j = V.index(word)\n",
      "                ind.append(j)\n",
      "                x[j] = 1\n",
      "        betas=[]\n",
      "        if not ind: #checking for empty list\n",
      "            continue\n",
      "        else:\n",
      "            for i in range(len(ind)):\n",
      "                betas.append(g_beta[ind[i]])\n",
      "        #print 'betas are', betas\n",
      "        #prediction and writing out files\n",
      "        mu = sum(betas) + g_b0\n",
      "        '''\n",
      "        pi  = exp(mu)/ (1 + exp(mu))\n",
      "        y_predict = 0\n",
      "        if pi > 0.5:\n",
      "            y_predict = 1\n",
      "        #y_predict = get_y(pi)\n",
      "        \n",
      "        \n",
      "        if l[k]['label'] != '?':\n",
      "            ## the tweet is labeled, then\n",
      "            y_label = l[k]['label']\n",
      "            if y_predict != y_label:\n",
      "                errors = errors + 1\n",
      "            else:\n",
      "                pass # correct\n",
      "            # no matter what we predict, we update the parameters\n",
      "            # update step\n",
      "            g_t = g_t + 1\n",
      "            eta = learning(learning_type, g_t)\n",
      "            # the function to online update the parameters\n",
      "            updated_beta = online_update_beta_l2(y_label, mu, x, g_beta, g_b0, eta, rambda)\n",
      "            \n",
      "            #print 'true label is ', l[k]['label'] \n",
      "            #print temp\n",
      "            #print updated_beta[1][ind] - beta[ind]\n",
      "    \n",
      "            g_b0 = updated_beta[0]\n",
      "            g_beta = updated_beta[1]\n",
      "            \n",
      "        else: ## for unlabeled data\n",
      "            id_and_label = \"<\"+str(l[k]['id'])+\"> <\"+str(y_predict)+\"> \"\n",
      "            f.write(\"%s\" % id_and_label)\n",
      "        \n",
      "        #print 'true label is', l[k]['label']\n",
      "        #print id_and_label\n",
      "        #print 'error count is', error_count\n",
      "    return [g_beta, g_b0, g_t, errors]\n",
      "\n",
      "\n",
      "\n",
      "\n"
     ],
     "language": "python",
     "metadata": {},
     "outputs": [],
     "prompt_number": 36
    },
    {
     "cell_type": "code",
     "collapsed": false,
     "input": [
      "# input the data:\n",
      "lwishes=DAL.create('wishes-labelled')\n",
      "##testing the other data\n",
      "test = lwishes.subsets()[20:22] \n",
      "print 'The number of days to predict on is', len(test)\n",
      "i = 0\n",
      "g_beta = np.zeros(M)\n",
      "g_b0 = 0\n",
      "g_error_vec = []\n",
      "g_t = 0 #counting the number of iterations\n",
      "g_ones = 0# count of labelled one data\n",
      "f = open('predict_unlabelled.txt','w')\n",
      "\n",
      "learn_type = 1 # 1,2,3,4,5,6,7,8,9, different learning rate respectively\n",
      "print 'Here day 0 -- Dec 20, 2012, day 1 --Dec 21, 2012, ....'\n",
      "\n",
      "error_rate_temp = []\n",
      "total_errors = 0.0\n",
      "total_tweet = 0\n",
      "l = []\n",
      "t1 = time.clock()\n",
      "for day in test: # 44 days in total\n",
      "    i = i + 1\n",
      "    for tweet in lwishes.iter(day):\n",
      "        l.append(tweet)\n",
      "        total_tweet += 1\n",
      "        if total_tweet%1000 == 0:\n",
      "            #print '--'\n",
      "            #print total_tweet\n",
      "            L = len(l)\n",
      "            result = online_ridge_logistic(learn_type, g_beta, g_b0, g_t, f)\n",
      "            g_beta = result[0]\n",
      "            g_b0 = result[1]\n",
      "            g_t = result[2]\n",
      "            total_errors = total_errors + result[3]\n",
      "            error_rate_temp.append(total_errors / g_t)\n",
      "            #print total_errors / g_t\n",
      "            l = []\n",
      "    print 'after day ' + str(i) + \" \" + str(total_tweet) + \" got trained\" \n",
      "# for the last part less then 1000\n",
      "L = len(l)\n",
      "result = online_ridge_logistic(learn_type, g_beta, g_b0, g_t, f)\n",
      "g_beta = result[0]\n",
      "g_b0 = result[1]\n",
      "g_t = result[2]\n",
      "total_errors = total_errors + result[3]\n",
      "t2 = time.clock()\n",
      "print t2 - t1\n",
      "f.close()\n",
      "print 'The average error rate for labeled data is', total_errors / g_t\n",
      "plot(range(int(total_tweet / 1000)), error_rate_temp)\n",
      "show()\n",
      "\n"
     ],
     "language": "python",
     "metadata": {},
     "outputs": [
      {
       "output_type": "stream",
       "stream": "stdout",
       "text": [
        "The number of days to predict on is 2\n",
        "Here day 0 -- Dec 20, 2012, day 1 --Dec 21, 2012, ....\n",
        "after day 1 28008 got trained"
       ]
      },
      {
       "output_type": "stream",
       "stream": "stdout",
       "text": [
        "\n",
        "after day 2 58299 got trained"
       ]
      },
      {
       "output_type": "stream",
       "stream": "stdout",
       "text": [
        "\n",
        "26.72"
       ]
      },
      {
       "output_type": "stream",
       "stream": "stdout",
       "text": [
        "\n",
        "The average error rate for labeled data is 0.0298044784649\n"
       ]
      },
      {
       "output_type": "display_data",
       "png": "[encoded data removed]",
       "text": [
        "<matplotlib.figure.Figure at 0x4697250>"
       ]
      }
     ],
     "prompt_number": 37
    },
    {
     "cell_type": "code",
     "collapsed": false,
     "input": [],
     "language": "python",
     "metadata": {},
     "outputs": [],
     "prompt_number": 45
    },
    {
     "cell_type": "code",
     "collapsed": false,
     "input": [
      "\n"
     ],
     "language": "python",
     "metadata": {},
     "outputs": [],
     "prompt_number": 40
    },
    {
     "cell_type": "code",
     "collapsed": false,
     "input": [],
     "language": "python",
     "metadata": {},
     "outputs": [],
     "prompt_number": 40
    },
    {
     "cell_type": "code",
     "collapsed": false,
     "input": [
      "\n"
     ],
     "language": "python",
     "metadata": {},
     "outputs": [],
     "prompt_number": 40
    },
    {
     "cell_type": "code",
     "collapsed": false,
     "input": [
      "\n"
     ],
     "language": "python",
     "metadata": {},
     "outputs": [],
     "prompt_number": 40
    },
    {
     "cell_type": "code",
     "collapsed": false,
     "input": [],
     "language": "python",
     "metadata": {},
     "outputs": [],
     "prompt_number": 40
    },
    {
     "cell_type": "code",
     "collapsed": false,
     "input": [
      "\n"
     ],
     "language": "python",
     "metadata": {},
     "outputs": [],
     "prompt_number": 40
    },
    {
     "cell_type": "code",
     "collapsed": false,
     "input": [
      "\n"
     ],
     "language": "python",
     "metadata": {},
     "outputs": [],
     "prompt_number": 40
    },
    {
     "cell_type": "code",
     "collapsed": false,
     "input": [],
     "language": "python",
     "metadata": {},
     "outputs": [],
     "prompt_number": 40
    },
    {
     "cell_type": "markdown",
     "metadata": {},
     "source": [
      "Short commentary:\n",
      "    \n",
      "    Based on our results, it seems like the best step size is 0.3/sqrt(t), which gives us an error rate of 0.030. This was only slightly better than most of the other rates which were around that level as well. The worst rates we got were from step sizes of 1, 0.3/t and 1/t which were near 0.08. "
     ]
    },
    {
     "cell_type": "markdown",
     "metadata": {},
     "source": [
      "\n",
      "    "
     ]
    }
   ],
   "metadata": {}
  }
 ]
}